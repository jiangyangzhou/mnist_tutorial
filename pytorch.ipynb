{
 "cells": [
  {
   "cell_type": "markdown",
   "metadata": {},
   "source": [
    "# Pytorch Tutorial"
   ]
  },
  {
   "cell_type": "markdown",
   "metadata": {},
   "source": [
    "Pytorch is a popular deep learning framework and it's easy to get started."
   ]
  },
  {
   "cell_type": "code",
   "execution_count": 1,
   "metadata": {},
   "outputs": [],
   "source": [
    "import torch\n",
    "import torch.nn as nn\n",
    "import torch.utils.data as data\n",
    "import torchvision\n",
    "import torchvision.transforms as transforms\n",
    "from tqdm import tqdm\n",
    "import time\n",
    "\n",
    "BATCH_SIZE = 128\n",
    "NUM_EPOCHS = 10"
   ]
  },
  {
   "cell_type": "markdown",
   "metadata": {},
   "source": [
    "First, we read the mnist data, preprocess them and encapsulate them into dataloader form."
   ]
  },
  {
   "cell_type": "code",
   "execution_count": 2,
   "metadata": {},
   "outputs": [
    {
     "name": "stdout",
     "output_type": "stream",
     "text": [
      "Downloading http://yann.lecun.com/exdb/mnist/train-images-idx3-ubyte.gz\n",
      "Downloading http://yann.lecun.com/exdb/mnist/train-labels-idx1-ubyte.gz\n",
      "Downloading http://yann.lecun.com/exdb/mnist/t10k-images-idx3-ubyte.gz\n",
      "Downloading http://yann.lecun.com/exdb/mnist/t10k-labels-idx1-ubyte.gz\n",
      "Processing...\n",
      "Done!\n"
     ]
    }
   ],
   "source": [
    "# preprocessing\n",
    "normalize = transforms.Normalize(mean=[.5], std=[.5])\n",
    "transform = transforms.Compose([transforms.ToTensor(), normalize])\n",
    "\n",
    "# download and load the data\n",
    "train_dataset = torchvision.datasets.MNIST(root='./mnist/', train=True, transform=transform, download=True)\n",
    "test_dataset = torchvision.datasets.MNIST(root='./mnist/', train=False, transform=transform, download=False)\n",
    "\n",
    "# encapsulate them into dataloader form\n",
    "train_loader = data.DataLoader(train_dataset, batch_size=BATCH_SIZE, shuffle=True, drop_last=True)\n",
    "test_loader = data.DataLoader(test_dataset, batch_size=BATCH_SIZE, shuffle=False, drop_last=True)"
   ]
  },
  {
   "cell_type": "markdown",
   "metadata": {},
   "source": [
    "Then, we define the model, object function and optimizer that we use to classify."
   ]
  },
  {
   "cell_type": "code",
   "execution_count": 22,
   "metadata": {},
   "outputs": [],
   "source": [
    "import torch.optim as optim\n",
    "import torch.nn.functional as F\n",
    "\n",
    "class SimpleNet(nn.Module):\n",
    "# TODO:define model\n",
    "    def __init__(self):\n",
    "        super(SimpleNet, self).__init__()\n",
    "        num_classes = 10\n",
    "        self.feature = nn.Sequential(\n",
    "            nn.Conv2d(1, 64, kernel_size=3, padding=1),\n",
    "            nn.BatchNorm2d(64),\n",
    "            nn.ReLU(True),\n",
    "            nn.Conv2d(64, 64, kernel_size=3, padding=1),\n",
    "            nn.BatchNorm2d(64),\n",
    "            nn.ReLU(True),\n",
    "            nn.Conv2d(64, 128, kernel_size=3, padding=1),\n",
    "            nn.BatchNorm2d(128),\n",
    "            nn.ReLU(True),\n",
    "            nn.Conv2d(128, 128, kernel_size=3, padding=1),\n",
    "            nn.ReLU(True),\n",
    "            nn.MaxPool2d(kernel_size=2, stride=2),\n",
    "            nn.Conv2d(128, 256, kernel_size=3, padding=1),\n",
    "            nn.BatchNorm2d(256),\n",
    "            nn.ReLU(True),\n",
    "            nn.Conv2d(256, 256, kernel_size=3, padding=1),\n",
    "            nn.BatchNorm2d(256),\n",
    "            nn.ReLU(True),\n",
    "            nn.MaxPool2d(kernel_size=2, stride=2)\n",
    "        )\n",
    "        self.avgpool = nn.AdaptiveAvgPool2d((7,7))\n",
    "        self.classifier = nn.Sequential(\n",
    "            nn.Linear(256 * 7 * 7, 2048),\n",
    "            nn.ReLU(True),\n",
    "            nn.Dropout(),\n",
    "            nn.Linear(2048, 2048),\n",
    "            nn.ReLU(True),\n",
    "            nn.Dropout(),\n",
    "            nn.Linear(2048, num_classes)\n",
    "        )\n",
    "    def forward(self,x):\n",
    "        x = self.feature(x)\n",
    "        x = self.avgpool(x)\n",
    "        x = x.view(x.size(0), -1)\n",
    "        x = self.classifier(x)\n",
    "        #x = F.log_softmax(x,dim = 1)\n",
    "        return x\n",
    "    \n",
    "model = SimpleNet()\n",
    "\n",
    "#TODO:define loss function and optimiter\n",
    "criterion =  nn.CrossEntropyLoss()\n",
    "optimizer = optim.SGD(model.parameters(), lr=0.01, momentum=0.9, weight_decay=5e-4)"
   ]
  },
  {
   "cell_type": "markdown",
   "metadata": {},
   "source": [
    "Next, we can start to train and evaluate!"
   ]
  },
  {
   "cell_type": "code",
   "execution_count": 32,
   "metadata": {},
   "outputs": [],
   "source": [
    "# train and evaluate\n",
    "def eval_(model, epoch, eval_loader, device):\n",
    "    model.eval()\n",
    "    test_loss = 0\n",
    "    correct = 0\n",
    "    with torch.no_grad():\n",
    "        for batch_idx, (feature, labels) in enumerate(eval_loader):\n",
    "            feature, labels = feature.to(device, dtype=torch.float), labels.to(device, dtype=torch.long)\n",
    "            output = model(feature)\n",
    "            test_loss += nn.CrossEntropyLoss()(output, labels).item()\n",
    "            pred = output.argmax(dim=1, keepdim=True) # get the index of the max log-probability\n",
    "            correct += pred.eq(labels.view_as(pred)).sum().item()\n",
    "    test_loss /= (batch_idx+1)\n",
    "    print('\\nTest set: Average loss: {:.4f}, Accuracy: {}/{} ({:.3f}%)\\n'.format(\n",
    "        test_loss, correct, len(eval_loader.dataset),\n",
    "        100. * correct / len(eval_loader.dataset)))\n",
    "    return correct/len(eval_loader.dataset)"
   ]
  },
  {
   "cell_type": "code",
   "execution_count": 34,
   "metadata": {
    "scrolled": true
   },
   "outputs": [
    {
     "name": "stdout",
     "output_type": "stream",
     "text": [
      "Train Epoch: 0 [0/60000 (0%)]\tLoss: 0.047366\n",
      "Train Epoch: 0 [12800/60000 (21%)]\tLoss: 0.014706\n",
      "Train Epoch: 0 [25600/60000 (43%)]\tLoss: 0.004958\n",
      "Train Epoch: 0 [38400/60000 (64%)]\tLoss: 0.029174\n",
      "Train Epoch: 0 [51200/60000 (85%)]\tLoss: 0.027023\n",
      "\n",
      "Test set: Average loss: 0.0152, Accuracy: 9934/10000 (99.340%)\n",
      "\n",
      "Train Epoch: 1 [0/60000 (0%)]\tLoss: 0.005335\n",
      "Train Epoch: 1 [12800/60000 (21%)]\tLoss: 0.004247\n",
      "Train Epoch: 1 [25600/60000 (43%)]\tLoss: 0.000430\n",
      "Train Epoch: 1 [38400/60000 (64%)]\tLoss: 0.001442\n",
      "Train Epoch: 1 [51200/60000 (85%)]\tLoss: 0.001059\n",
      "\n",
      "Test set: Average loss: 0.0159, Accuracy: 9930/10000 (99.300%)\n",
      "\n",
      "Train Epoch: 2 [0/60000 (0%)]\tLoss: 0.001724\n",
      "Train Epoch: 2 [12800/60000 (21%)]\tLoss: 0.000317\n",
      "Train Epoch: 2 [25600/60000 (43%)]\tLoss: 0.000357\n",
      "Train Epoch: 2 [38400/60000 (64%)]\tLoss: 0.000288\n",
      "Train Epoch: 2 [51200/60000 (85%)]\tLoss: 0.000912\n",
      "\n",
      "Test set: Average loss: 0.0180, Accuracy: 9927/10000 (99.270%)\n",
      "\n",
      "Train Epoch: 3 [0/60000 (0%)]\tLoss: 0.000409\n",
      "Train Epoch: 3 [12800/60000 (21%)]\tLoss: 0.001037\n",
      "Train Epoch: 3 [25600/60000 (43%)]\tLoss: 0.001425\n",
      "Train Epoch: 3 [38400/60000 (64%)]\tLoss: 0.000675\n",
      "Train Epoch: 3 [51200/60000 (85%)]\tLoss: 0.001073\n",
      "\n",
      "Test set: Average loss: 0.0143, Accuracy: 9935/10000 (99.350%)\n",
      "\n",
      "Train Epoch: 4 [0/60000 (0%)]\tLoss: 0.000301\n",
      "Train Epoch: 4 [12800/60000 (21%)]\tLoss: 0.000468\n",
      "Train Epoch: 4 [25600/60000 (43%)]\tLoss: 0.001816\n",
      "Train Epoch: 4 [38400/60000 (64%)]\tLoss: 0.000071\n",
      "Train Epoch: 4 [51200/60000 (85%)]\tLoss: 0.000175\n",
      "\n",
      "Test set: Average loss: 0.0143, Accuracy: 9935/10000 (99.350%)\n",
      "\n",
      "Train Epoch: 5 [0/60000 (0%)]\tLoss: 0.000553\n",
      "Train Epoch: 5 [12800/60000 (21%)]\tLoss: 0.007817\n",
      "Train Epoch: 5 [25600/60000 (43%)]\tLoss: 0.000455\n",
      "Train Epoch: 5 [38400/60000 (64%)]\tLoss: 0.000024\n",
      "Train Epoch: 5 [51200/60000 (85%)]\tLoss: 0.000428\n",
      "\n",
      "Test set: Average loss: 0.0143, Accuracy: 9936/10000 (99.360%)\n",
      "\n",
      "Train Epoch: 6 [0/60000 (0%)]\tLoss: 0.000202\n",
      "Train Epoch: 6 [12800/60000 (21%)]\tLoss: 0.000228\n",
      "Train Epoch: 6 [25600/60000 (43%)]\tLoss: 0.000060\n",
      "Train Epoch: 6 [38400/60000 (64%)]\tLoss: 0.000790\n",
      "Train Epoch: 6 [51200/60000 (85%)]\tLoss: 0.000828\n",
      "\n",
      "Test set: Average loss: 0.0143, Accuracy: 9936/10000 (99.360%)\n",
      "\n",
      "Train Epoch: 7 [0/60000 (0%)]\tLoss: 0.000548\n",
      "Train Epoch: 7 [12800/60000 (21%)]\tLoss: 0.000597\n",
      "Train Epoch: 7 [25600/60000 (43%)]\tLoss: 0.000366\n",
      "Train Epoch: 7 [38400/60000 (64%)]\tLoss: 0.001373\n",
      "Train Epoch: 7 [51200/60000 (85%)]\tLoss: 0.000896\n",
      "\n",
      "Test set: Average loss: 0.0145, Accuracy: 9937/10000 (99.370%)\n",
      "\n",
      "Train Epoch: 8 [0/60000 (0%)]\tLoss: 0.000395\n",
      "Train Epoch: 8 [12800/60000 (21%)]\tLoss: 0.000422\n",
      "Train Epoch: 8 [25600/60000 (43%)]\tLoss: 0.000195\n",
      "Train Epoch: 8 [38400/60000 (64%)]\tLoss: 0.000734\n",
      "Train Epoch: 8 [51200/60000 (85%)]\tLoss: 0.000385\n",
      "\n",
      "Test set: Average loss: 0.0147, Accuracy: 9936/10000 (99.360%)\n",
      "\n",
      "Train Epoch: 9 [0/60000 (0%)]\tLoss: 0.000132\n",
      "Train Epoch: 9 [12800/60000 (21%)]\tLoss: 0.000308\n",
      "Train Epoch: 9 [25600/60000 (43%)]\tLoss: 0.000086\n",
      "Train Epoch: 9 [38400/60000 (64%)]\tLoss: 0.000749\n",
      "Train Epoch: 9 [51200/60000 (85%)]\tLoss: 0.000106\n",
      "\n",
      "Test set: Average loss: 0.0146, Accuracy: 9938/10000 (99.380%)\n",
      "\n"
     ]
    }
   ],
   "source": [
    "use_cuda=True\n",
    "device = torch.device(\"cuda\" if use_cuda else \"cpu\")\n",
    "model = model.to(device)\n",
    "model.train()\n",
    "for epoch in range(NUM_EPOCHS):\n",
    "    if epoch==1:\n",
    "        for param_group in optimizer.param_groups:\n",
    "            param_group['lr'] = 0.005\n",
    "    if epoch==3:\n",
    "        for param_group in optimizer.param_groups:\n",
    "            param_group['lr'] = 0.001\n",
    "    for  batch_idx, (images, labels) in enumerate(train_loader):\n",
    "        images, labels = images.to(device, dtype=torch.float), labels.to(device, dtype=torch.long)\n",
    "        optimizer.zero_grad()\n",
    "        output = model(images)\n",
    "        loss = nn.CrossEntropyLoss()(output, labels)\n",
    "        loss.backward()\n",
    "        optimizer.step()\n",
    "        if batch_idx%100==0:\n",
    "            print('Train Epoch: {} [{}/{} ({:.0f}%)]\\tLoss: {:.6f}'.format(\n",
    "                epoch, batch_idx * len(images), len(train_loader.dataset),\n",
    "                100. * batch_idx / len(train_loader), loss.item()))\n",
    "        # TODO:forward + backward + optimize\n",
    "    eval_(model,NUM_EPOCHS, test_loader,device)\n",
    "        \n",
    "    # evaluate\n",
    "    # TODO:calculate the accuracy using traning and testing dataset\n",
    "    \n",
    "    \n",
    "    \n",
    "    \n"
   ]
  },
  {
   "cell_type": "code",
   "execution_count": 35,
   "metadata": {},
   "outputs": [
    {
     "name": "stdout",
     "output_type": "stream",
     "text": [
      "\n",
      "Test set: Average loss: 0.0006, Accuracy: 59902/60000 (99.837%)\n",
      "\n",
      "\n",
      "Test set: Average loss: 0.0146, Accuracy: 9938/10000 (99.380%)\n",
      "\n"
     ]
    }
   ],
   "source": [
    "train_accuracy = eval_(model,NUM_EPOCHS, train_loader,device)\n",
    "test_accuracy = eval_(model,NUM_EPOCHS, test_loader,device)\n"
   ]
  },
  {
   "cell_type": "markdown",
   "metadata": {},
   "source": [
    "#### Q5:\n",
    "Please print the training and testing accuracy."
   ]
  },
  {
   "cell_type": "code",
   "execution_count": 36,
   "metadata": {},
   "outputs": [
    {
     "name": "stdout",
     "output_type": "stream",
     "text": [
      "Training accuracy: 99.84%\n",
      "Testing accuracy: 99.38%\n"
     ]
    }
   ],
   "source": [
    "print('Training accuracy: %0.2f%%' % (train_accuracy*100))\n",
    "print('Testing accuracy: %0.2f%%' % (test_accuracy*100))"
   ]
  },
  {
   "cell_type": "code",
   "execution_count": null,
   "metadata": {},
   "outputs": [],
   "source": []
  }
 ],
 "metadata": {
  "kernelspec": {
   "display_name": "Python 3",
   "language": "python",
   "name": "python3"
  },
  "language_info": {
   "codemirror_mode": {
    "name": "ipython",
    "version": 3
   },
   "file_extension": ".py",
   "mimetype": "text/x-python",
   "name": "python",
   "nbconvert_exporter": "python",
   "pygments_lexer": "ipython3",
   "version": "3.6.7"
  }
 },
 "nbformat": 4,
 "nbformat_minor": 2
}
