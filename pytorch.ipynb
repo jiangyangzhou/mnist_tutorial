{
 "cells": [
  {
   "cell_type": "markdown",
   "metadata": {},
   "source": [
    "# Pytorch Tutorial"
   ]
  },
  {
   "cell_type": "markdown",
   "metadata": {},
   "source": [
    "Pytorch is a popular deep learning framework and it's easy to get started."
   ]
  },
  {
   "cell_type": "code",
   "execution_count": 1,
   "metadata": {},
   "outputs": [],
   "source": [
    "import torch\n",
    "import torch.nn as nn\n",
    "import torch.utils.data as data\n",
    "import torchvision\n",
    "import torchvision.transforms as transforms\n",
    "from tqdm import tqdm\n",
    "import time\n",
    "\n",
    "BATCH_SIZE = 128\n",
    "NUM_EPOCHS = 10"
   ]
  },
  {
   "cell_type": "markdown",
   "metadata": {},
   "source": [
    "First, we read the mnist data, preprocess them and encapsulate them into dataloader form."
   ]
  },
  {
   "cell_type": "code",
   "execution_count": 2,
   "metadata": {},
   "outputs": [
    {
     "name": "stdout",
     "output_type": "stream",
     "text": [
      "Downloading http://yann.lecun.com/exdb/mnist/train-images-idx3-ubyte.gz\n",
      "Downloading http://yann.lecun.com/exdb/mnist/train-labels-idx1-ubyte.gz\n",
      "Downloading http://yann.lecun.com/exdb/mnist/t10k-images-idx3-ubyte.gz\n",
      "Downloading http://yann.lecun.com/exdb/mnist/t10k-labels-idx1-ubyte.gz\n",
      "Processing...\n",
      "Done!\n"
     ]
    }
   ],
   "source": [
    "# preprocessing\n",
    "normalize = transforms.Normalize(mean=[.5], std=[.5])\n",
    "transform = transforms.Compose([transforms.ToTensor(), normalize])\n",
    "\n",
    "# download and load the data\n",
    "train_dataset = torchvision.datasets.MNIST(root='./mnist/', train=True, transform=transform, download=True)\n",
    "test_dataset = torchvision.datasets.MNIST(root='./mnist/', train=False, transform=transform, download=False)\n",
    "\n",
    "# encapsulate them into dataloader form\n",
    "train_loader = data.DataLoader(train_dataset, batch_size=BATCH_SIZE, shuffle=True, drop_last=True)\n",
    "test_loader = data.DataLoader(test_dataset, batch_size=BATCH_SIZE, shuffle=False, drop_last=True)"
   ]
  },
  {
   "cell_type": "markdown",
   "metadata": {},
   "source": [
    "Then, we define the model, object function and optimizer that we use to classify."
   ]
  },
  {
   "cell_type": "code",
   "execution_count": null,
   "metadata": {
    "collapsed": true
   },
   "outputs": [],
   "source": [
    "class SimpleNet(nn.Module):\n",
    "# TODO:define model\n",
    "    def __init__(self):\n",
    "        super(SimpleNet, self).__init__()\n",
    "        self.num_classes = num_classes\n",
    "        self.feature = nn.Sequential(\n",
    "            nn.Conv2d(1, 64, kernel_size=3, padding=1),\n",
    "            nn.BatchNorm2d(64),\n",
    "            nn.ReLU(True),\n",
    "            nn.Conv2d(64, 64, kernel_size=3, padding=1),\n",
    "            nn.BatchNorm2d(64),\n",
    "            nn.ReLU(True),\n",
    "            nn.Conv2d(64, 128, kernel_size=3, padding=1),\n",
    "            nn.BatchNorm2d(128),\n",
    "            nn.ReLU(True),\n",
    "            nn.Conv2d(128, 128, kernel_size=3, padding=1),\n",
    "            nn.ReLU(True),\n",
    "            nn.MaxPool2d(kernel_size=2, stride=2),\n",
    "            nn.Conv2d(128, 256, kernel_size=3, padding=1),\n",
    "            nn.BatchNorm2d(256),\n",
    "            nn.ReLU(True),\n",
    "            nn.Conv2d(256, 256, kernel_size=3, padding=1),\n",
    "            nn.BatchNorm2d(256),\n",
    "            nn.ReLU(True),\n",
    "            nn.MaxPool2d(kernel_size=2, stride=2)\n",
    "        )\n",
    "        self.avgpool = nn.AdaptiveAvgPool2d((7,7))\n",
    "        self.classifier = nn.Sequential(\n",
    "            nn.Linear(256 * 7 * 7, 2048),\n",
    "            nn.ReLU(True),\n",
    "            nn.Dropout(),\n",
    "            nn.Linear(2048, 2048),\n",
    "            nn.ReLU(True),\n",
    "            nn.Dropout(),\n",
    "            nn.Linear(2048, num_classes)\n",
    "        )\n",
    "    def forward(self,x):\n",
    "        x = self.feature(x)\n",
    "        x = self.avgpool(x)\n",
    "        x = x.view(x.size(0), -1)\n",
    "        x = self.classifier(x)\n",
    "        x = F.log_softmax(x,dim = 1)\n",
    "        return x\n",
    "    \n",
    "model = SimpleNet()\n",
    "\n",
    "def train(model,epoch, optimizer, train_loader, device, log_interval=100):\n",
    "    model.train()\n",
    "    for batch_idx, (id_,feature, label) in enumerate(train_loader):\n",
    "        feature, label = feature.to(device, dtype=torch.float), label.to(device, dtype=torch.long)\n",
    "        optimizer.zero_grad()\n",
    "        output = model(feature)\n",
    "        loss = nn.CrossEntropyLoss()(output, label)\n",
    "        loss.backward()\n",
    "        optimizer.step()\n",
    "        if batch_idx % log_interval == 0:\n",
    "            print('Train Epoch: {} [{}/{} ({:.0f}%)]\\tLoss: {:.6f}'.format(\n",
    "                epoch, batch_idx * len(feature), len(train_loader.dataset),\n",
    "                100. * batch_idx / len(train_loader), loss.item()))\n",
    "\n",
    "def eval_(model, epoch, eval_loader, device, best_acc, best_weights):\n",
    "    model.eval()\n",
    "    test_loss = 0\n",
    "    correct = 0\n",
    "    with torch.no_grad():\n",
    "        for batch_idx, (id_, feature, label) in enumerate(eval_loader):\n",
    "            feature, label = feature.to(device, dtype=torch.float), label.to(device, dtype=torch.long)\n",
    "            output = model(feature)\n",
    "            test_loss += nn.CrossEntropyLoss()(output, label).item()\n",
    "            pred = output.argmax(dim=1, keepdim=True) # get the index of the max log-probability\n",
    "            correct += pred.eq(label.view_as(pred)).sum().item()\n",
    "    test_loss /= (batch_idx+1)\n",
    "    print('\\nTest set: Average loss: {:.4f}, Accuracy: {}/{} ({:.3f}%)\\n'.format(\n",
    "        test_loss, correct, len(eval_loader.dataset),\n",
    "        100. * correct / len(eval_loader.dataset)))\n",
    "    return best_acc, best_weights\n",
    "def train_eval(model, batch_size, epoch_num, use_cuda, lr, train_set, eval_set):\n",
    "    device = torch.device(\"cuda\" if use_cuda else \"cpu\")\n",
    "    if use_cuda:\n",
    "        model = model.to(device)\n",
    "    \n",
    "    print(\"initialize weights done\")\n",
    "    optimizer = optim.SGD(model.parameters(), lr=lr, momentum=0.9, weight_decay=5e-4)\n",
    " \n",
    "    print(\"begin train....\")\n",
    "    best_acc,best_weights = 0, \"weights/sne_0_0.pt\"\n",
    "    for epoch in range(epoch_num):\n",
    "        train(model, epoch, optimizer, train_loader, device)\n",
    "        eval_(model, epoch, test_loader,device)\n",
    "        \n",
    "    torch.save(model.state_dict(),\"my_ic_final_%s.pt\"%epoch_num)\n",
    "    return model, optimizer, train_loader, eval_loader, best_weights\n",
    "    \n",
    "def goon_train(batch_size, start_epoch, end_epoch, use_cuda,  model, optimizer, train_loader, eval_loader):\n",
    "    print(\"begin train....\")\n",
    "    device = torch.device(\"cuda\" if use_cuda else \"cpu\")\n",
    "    best_acc,best_weights = 0, \"weights/sne_0_0.pt\"\n",
    "    for epoch in range(start_epoch, end_epoch):\n",
    "        train(model, epoch, optimizer, train_loader, device)\n",
    "        best_acc,best_weights =eval_(model, epoch, eval_loader,device, best_acc, best_weights)\n",
    "        \n",
    "    torch.save(model.state_dict(),\"my_ic_final_%s.pt\"%end_epoch)\n",
    "    return model, optimizer, train_loader, eval_loader, best_weights\n",
    "\n",
    "model, optimizer, train_loader, eval_loader, best_weights = train_eval(model,128, 100, True, 0.1, train_set, eval_set)\n",
    "for param_group in optimizer.param_groups:\n",
    "    param_group['lr'] = 0.01\n",
    "model, optimizer, train_loader, eval_loader, best_weights= goon_train(128, 100, 200, True, model, optimizer, train_loader, eval_loader)\n",
    "for param_group in optimizer.param_groups:\n",
    "    param_group['lr'] = 0.001\n",
    "model, optimizer, train_loader, eval_loader, best_weights= goon_train(128, 200, 300, True, model, optimizer, train_loader, eval_loader)\n",
    "\n",
    "\n",
    "# TODO:define loss function and optimiter\n",
    "criterion = \n",
    "optimizer = "
   ]
  },
  {
   "cell_type": "markdown",
   "metadata": {},
   "source": [
    "Next, we can start to train and evaluate!"
   ]
  },
  {
   "cell_type": "code",
   "execution_count": null,
   "metadata": {
    "collapsed": true,
    "scrolled": true
   },
   "outputs": [],
   "source": [
    "# train and evaluate\n",
    "for epoch in range(NUM_EPOCHS):\n",
    "    for images, labels in tqdm(train_loader):\n",
    "        # TODO:forward + backward + optimize\n",
    "        \n",
    "        \n",
    "        \n",
    "        \n",
    "        \n",
    "    # evaluate\n",
    "    # TODO:calculate the accuracy using traning and testing dataset\n",
    "    \n",
    "    \n",
    "    \n",
    "    \n"
   ]
  },
  {
   "cell_type": "markdown",
   "metadata": {},
   "source": [
    "#### Q5:\n",
    "Please print the training and testing accuracy."
   ]
  }
 ],
 "metadata": {
  "kernelspec": {
   "display_name": "Python 3",
   "language": "python",
   "name": "python3"
  },
  "language_info": {
   "codemirror_mode": {
    "name": "ipython",
    "version": 3
   },
   "file_extension": ".py",
   "mimetype": "text/x-python",
   "name": "python",
   "nbconvert_exporter": "python",
   "pygments_lexer": "ipython3",
   "version": "3.6.5"
  }
 },
 "nbformat": 4,
 "nbformat_minor": 2
}
